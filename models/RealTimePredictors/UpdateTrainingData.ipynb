{
 "cells": [
  {
   "cell_type": "code",
   "execution_count": 1,
   "metadata": {},
   "outputs": [],
   "source": [
    "import os, sys\n",
    "\n",
    "sys.path.append('/Users/gabrielsucich/Desktop/option_trading/')\n",
    "root = '/Users/gabrielsucich/Desktop/option_trading/'"
   ]
  },
  {
   "cell_type": "code",
   "execution_count": 2,
   "metadata": {},
   "outputs": [],
   "source": [
    "from datetime import date\n",
    "import pandas as pd\n",
    "import numpy as np\n",
    "import random"
   ]
  },
  {
   "cell_type": "code",
   "execution_count": 3,
   "metadata": {},
   "outputs": [],
   "source": [
    "import Utils.jsonHelper as jh\n",
    "tracked_stocks_JSON = jh.readJSON(root + \"stocks/stockJSON/tracked_stocks.json\")\n",
    "tracked_stocks = list(tracked_stocks_JSON.keys())"
   ]
  },
  {
   "cell_type": "code",
   "execution_count": 4,
   "metadata": {},
   "outputs": [
    {
     "name": "stdout",
     "output_type": "stream",
     "text": [
      "Logged In\n"
     ]
    }
   ],
   "source": [
    "from Models.Stocks.StockHistory import *\n",
    "from Models.MetricLoggers.InterdayMetrics import *\n",
    "from Models.EventLoggers.InterdayChanges import *"
   ]
  },
  {
   "cell_type": "code",
   "execution_count": 5,
   "metadata": {},
   "outputs": [],
   "source": [
    "nonconsecutive_granularity = \"quartile\"\n",
    "nonconsecutive_volumeRecordLength = 2\n",
    "nonconsecutive_pressureRecordLength = 3\n",
    "nonconsecutive_priceRecordLength = 3\n",
    "nonconsecutive_interdayRecordLength = 4"
   ]
  },
  {
   "cell_type": "code",
   "execution_count": 6,
   "metadata": {},
   "outputs": [],
   "source": [
    "consecutive_granularity = \"quartile\"\n",
    "consecutive_volumeRecordLength = 3\n",
    "consecutive_pressureRecordLength = 3\n",
    "consecutive_priceRecordLength = 3\n",
    "consecutive_interdayRecordLength = 4"
   ]
  },
  {
   "cell_type": "code",
   "execution_count": 7,
   "metadata": {},
   "outputs": [],
   "source": [
    "def create_stock_data(symbol, granularity, volumeRecordLength, pressureRecordLength, priceRecordLength, interdayRecordLength):\n",
    "    \n",
    "    try:\n",
    "        stock_history_object = StockHistory(symbol, granularity = granularity)\n",
    "        stock_interday_changes = InterdayChanges(stock_history_object)\n",
    "        stock_interday_metrics = InterdayMetrics(stock_history_object, volumeRecordLength, pressureRecordLength, priceRecordLength, interdayRecordLength)\n",
    "\n",
    "\n",
    "        stock_data = pd.DataFrame()\n",
    "\n",
    "        stock_data[\"Date\"] = list(stock_history_object.getHistory().keys())[max([volumeRecordLength, pressureRecordLength, priceRecordLength, interdayRecordLength]) : -1]\n",
    "        stock_data[\"Symbol\"] = symbol\n",
    "\n",
    "        stock_volume_gradient = [stock_interday_metrics.lastVolumeMetric(date)[\"gradient\"] for date in stock_data[\"Date\"]]\n",
    "        stock_volume_concavity = [stock_interday_metrics.lastVolumeMetric(date)[\"concavity\"] for date in stock_data[\"Date\"]]\n",
    "\n",
    "        stock_price_gradient = [stock_interday_metrics.lastPriceMetric(date)[\"gradient\"] for date in stock_data[\"Date\"]]\n",
    "        stock_price_concavity = [stock_interday_metrics.lastPriceMetric(date)[\"concavity\"] for date in stock_data[\"Date\"]]\n",
    "\n",
    "        stock_pressure_mean = [stock_interday_metrics.lastPressureMetric(date)[\"mean\"] for date in stock_data[\"Date\"]]\n",
    "        stock_pressure_gradient = [stock_interday_metrics.lastPressureMetric(date)[\"gradient\"] for date in stock_data[\"Date\"]]\n",
    "        stock_pressure_concavity = [stock_interday_metrics.lastPressureMetric(date)[\"concavity\"] for date in stock_data[\"Date\"]]\n",
    "\n",
    "        stock_interday_mean = [stock_interday_metrics.interdayMetric(date)[\"mean\"] for date in stock_data[\"Date\"]]\n",
    "        stock_interday_gradient = [stock_interday_metrics.interdayMetric(date)[\"gradient\"] for date in stock_data[\"Date\"]]\n",
    "        stock_interday_concavity = [stock_interday_metrics.interdayMetric(date)[\"concavity\"] for date in stock_data[\"Date\"]]\n",
    "        stock_interday_consecutiveDrops = [stock_interday_metrics.interdayMetric(date)[\"consecutiveDecreases\"] for date in stock_data[\"Date\"]]\n",
    "        stock_interday_consecutiveJumps = [stock_interday_metrics.interdayMetric(date)[\"consecutiveIncreases\"] for date in stock_data[\"Date\"]]\n",
    "\n",
    "        stock_data[\"Volume Gradient\"] = stock_volume_gradient\n",
    "        stock_data[\"Volume Concavity\"] = stock_volume_concavity\n",
    "        stock_data[\"Price Gradient\"] = stock_price_gradient\n",
    "        stock_data[\"Price Concavity\"] = stock_price_concavity\n",
    "        stock_data[\"Buy Pressure Mean\"] = stock_pressure_mean\n",
    "        stock_data[\"Buy Pressure Gradient\"] = stock_pressure_gradient\n",
    "        stock_data[\"Buy Pressure Concavity\"] = stock_pressure_concavity\n",
    "        stock_data[\"Interday Mean\"] = stock_interday_mean\n",
    "        stock_data[\"Interday Gradient\"] = stock_interday_gradient\n",
    "        stock_data[\"Interday Concavity\"] = stock_interday_concavity\n",
    "        stock_data[\"Consecutive Interday Drops\"] = stock_interday_consecutiveDrops\n",
    "        stock_data[\"Consecutive Interday Jumps\"] = stock_interday_consecutiveJumps\n",
    "\n",
    "        interday_changes = stock_interday_changes.getInterdayChanges() \n",
    "\n",
    "        stock_data[\"Prev Day Change (%)\"] = [interday_changes[date][\"prev_day_change\"] for date in stock_data[\"Date\"]]\n",
    "        stock_data[\"Next Day Change (%)\"] = [interday_changes[date][\"next_day_change\"] for date in stock_data[\"Date\"]]\n",
    "\n",
    "        return stock_data\n",
    "\n",
    "    except:\n",
    "        print(\"There was an issue with {}\".format(symbol))"
   ]
  },
  {
   "cell_type": "code",
   "execution_count": 8,
   "metadata": {},
   "outputs": [],
   "source": [
    "def stock_data(symbols, granularity, volumeRecordLength, pressureRecordLength, priceRecordLength, interdayRecordLength):\n",
    "    \n",
    "        data = create_stock_data(symbols[0], granularity, volumeRecordLength, pressureRecordLength, priceRecordLength, interdayRecordLength)\n",
    "        \n",
    "        for symbol in symbols[1:]:\n",
    "            \n",
    "            data = data.append(create_stock_data(symbol, granularity, volumeRecordLength, pressureRecordLength, priceRecordLength, interdayRecordLength))\n",
    "            \n",
    "        \n",
    "        return data"
   ]
  },
  {
   "cell_type": "code",
   "execution_count": 9,
   "metadata": {},
   "outputs": [],
   "source": [
    "def update_consecutive_data():\n",
    "    \n",
    "    data = stock_data(tracked_stocks, consecutive_granularity, consecutive_volumeRecordLength, consecutive_pressureRecordLength, consecutive_priceRecordLength, consecutive_interdayRecordLength)\n",
    "    data.to_csv(\"OptimalTrainingDataConsecutive.csv\")\n",
    "    print(\"Consecutive_data_updated\")\n",
    "\n",
    "def update_nonconsecutive_data():\n",
    "    \n",
    "    data = stock_data(tracked_stocks, nonconsecutive_granularity, nonconsecutive_volumeRecordLength, nonconsecutive_pressureRecordLength, nonconsecutive_priceRecordLength, nonconsecutive_interdayRecordLength)\n",
    "    data.to_csv(\"OptimalTrainingDataNonconsecutive.csv\")\n",
    "    print(\"Nonconsecutive_data_updated\")\n",
    "    \n",
    "def update_training_data():\n",
    "    \n",
    "    update_consecutive_data()\n",
    "    update_nonconsecutive_data()\n",
    "    \n",
    "    "
   ]
  },
  {
   "cell_type": "code",
   "execution_count": 10,
   "metadata": {},
   "outputs": [
    {
     "name": "stdout",
     "output_type": "stream",
     "text": [
      "Consecutive_data_updated\n",
      "Nonconsecutive_data_updated\n"
     ]
    }
   ],
   "source": [
    "update_training_data()"
   ]
  },
  {
   "cell_type": "code",
   "execution_count": null,
   "metadata": {},
   "outputs": [],
   "source": []
  }
 ],
 "metadata": {
  "kernelspec": {
   "display_name": "Python 3",
   "language": "python",
   "name": "python3"
  },
  "language_info": {
   "codemirror_mode": {
    "name": "ipython",
    "version": 3
   },
   "file_extension": ".py",
   "mimetype": "text/x-python",
   "name": "python",
   "nbconvert_exporter": "python",
   "pygments_lexer": "ipython3",
   "version": "3.8.1"
  }
 },
 "nbformat": 4,
 "nbformat_minor": 4
}
